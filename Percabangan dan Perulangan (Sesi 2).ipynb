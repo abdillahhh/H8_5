{
 "cells": [
  {
   "cell_type": "markdown",
   "id": "ca483461",
   "metadata": {},
   "source": [
    "# Conditional"
   ]
  },
  {
   "cell_type": "code",
   "execution_count": 2,
   "id": "ce8f43c9",
   "metadata": {},
   "outputs": [
    {
     "name": "stdout",
     "output_type": "stream",
     "text": [
      "yes\n",
      "no\n",
      "yes\n",
      "yes\n",
      "no\n"
     ]
    }
   ],
   "source": [
    "x = 0\n",
    "y = 5\n",
    "\n",
    "if x < y:\n",
    "    print('yes')\n",
    "\n",
    "if y < x:\n",
    "    print('yes')\n",
    "else: print('no')\n",
    "    \n",
    "if y:\n",
    "    print('yes')\n",
    "\n",
    "if 'aul' in 'grault':\n",
    "    print('yes')\n",
    "\n",
    "if 'quux' in ['foo', 'bar', 'baz']:\n",
    "    print('yes')\n",
    "else: print('no')"
   ]
  },
  {
   "cell_type": "markdown",
   "id": "79f02186",
   "metadata": {},
   "source": [
    "# Grouping Statements"
   ]
  },
  {
   "cell_type": "code",
   "execution_count": 3,
   "id": "5f9c6edd",
   "metadata": {},
   "outputs": [
    {
     "name": "stdout",
     "output_type": "stream",
     "text": [
      "After conditional\n"
     ]
    }
   ],
   "source": [
    "if 'foo' in ['bar', 'baz', 'qux']:\n",
    "    print('Expression was true')\n",
    "    print('Executing statement is suit')\n",
    "    print('...')\n",
    "    print('Done.')\n",
    "\n",
    "print('After conditional')"
   ]
  },
  {
   "cell_type": "code",
   "execution_count": 4,
   "id": "939819fa",
   "metadata": {},
   "outputs": [
    {
     "name": "stdout",
     "output_type": "stream",
     "text": [
      "Outer condition is true\n",
      "Beetwen inner condiotions\n",
      "Inner condition 2\n",
      "End of outer conditon\n",
      "Aftter outer condition\n"
     ]
    }
   ],
   "source": [
    "if 'foo' in ['foo', 'bar', 'baz']:\n",
    "    print('Outer condition is true')\n",
    "    \n",
    "    if 10 > 20:\n",
    "        print('inner condition 1')\n",
    "        \n",
    "    print('Beetwen inner condiotions')\n",
    "    \n",
    "    if 20 > 10:\n",
    "        print('Inner condition 2')\n",
    "    \n",
    "    print('End of outer conditon')\n",
    "print('Aftter outer condition')"
   ]
  },
  {
   "cell_type": "markdown",
   "id": "d6da8cab",
   "metadata": {},
   "source": [
    "# Else and If Clauses"
   ]
  },
  {
   "cell_type": "code",
   "execution_count": 5,
   "id": "ccca2f14",
   "metadata": {},
   "outputs": [
    {
     "name": "stdout",
     "output_type": "stream",
     "text": [
      "(first suit)\n",
      "x is small\n"
     ]
    }
   ],
   "source": [
    "x = 20\n",
    "\n",
    "if x < 50:\n",
    "    print('(first suit)')\n",
    "    print('x is small')\n",
    "else:\n",
    "    print('(second suit)')\n",
    "    print('x is large')"
   ]
  },
  {
   "cell_type": "code",
   "execution_count": 6,
   "id": "4437bc82",
   "metadata": {},
   "outputs": [
    {
     "name": "stdout",
     "output_type": "stream",
     "text": [
      "(second suit)\n",
      "x is large\n"
     ]
    }
   ],
   "source": [
    "x = 120\n",
    "\n",
    "if x < 50:\n",
    "    print('(first suit)')\n",
    "    print('x is small')\n",
    "else:\n",
    "    print('(second suit)')\n",
    "    print('x is large')"
   ]
  },
  {
   "cell_type": "code",
   "execution_count": 7,
   "id": "306fae70",
   "metadata": {},
   "outputs": [
    {
     "name": "stdout",
     "output_type": "stream",
     "text": [
      "uang tidak cukup\n",
      "cari uang lagi\n"
     ]
    }
   ],
   "source": [
    "harga_buku = 20000\n",
    "harga_majalah = 5000\n",
    "uang = 2000\n",
    "\n",
    "if uang > harga_buku:\n",
    "    print('beli buku')\n",
    "else:\n",
    "    print('uang tidak cukup')\n",
    "\n",
    "if uang < harga_majalah:\n",
    "    print('cari uang lagi')\n",
    "else:\n",
    "    print('beli majalah')"
   ]
  },
  {
   "cell_type": "code",
   "execution_count": 8,
   "id": "3330f601",
   "metadata": {},
   "outputs": [
    {
     "name": "stdout",
     "output_type": "stream",
     "text": [
      "Hello hacktiv8\n"
     ]
    }
   ],
   "source": [
    "name = 'Hacktiv8'\n",
    "\n",
    "if name == 'fred':\n",
    "    print('Hello fred')\n",
    "elif name == 'Xander':\n",
    "    print('Hello xander')\n",
    "elif name == 'Hacktiv8':\n",
    "    print('Hello hacktiv8')\n",
    "elif name == 'Arnold':\n",
    "    print('Hello arnold')\n",
    "else:\n",
    "    print('Lu siapa sih!')"
   ]
  },
  {
   "cell_type": "code",
   "execution_count": 9,
   "id": "0e91c214",
   "metadata": {},
   "outputs": [
    {
     "name": "stdout",
     "output_type": "stream",
     "text": [
      "foo\n"
     ]
    }
   ],
   "source": [
    "if 'a' in 'bar':\n",
    "    print('foo')\n",
    "elif 1/10:\n",
    "    print('Ini gak akan terjadi')\n",
    "elif var:\n",
    "    print('Ini juga')"
   ]
  },
  {
   "cell_type": "markdown",
   "id": "147335f3",
   "metadata": {},
   "source": [
    "# Conditional Expressions"
   ]
  },
  {
   "cell_type": "code",
   "execution_count": 10,
   "id": "4aa5c3ab",
   "metadata": {},
   "outputs": [
    {
     "name": "stdout",
     "output_type": "stream",
     "text": [
      "Let's go to the beach\n",
      "Let's go to the library\n"
     ]
    }
   ],
   "source": [
    "raining = False\n",
    "\n",
    "print(\"Let's go to the\", 'beach' if not raining else 'library') \n",
    "print(\"Let's go to the\", 'beach' if raining else 'library')"
   ]
  },
  {
   "cell_type": "code",
   "execution_count": 11,
   "id": "3c3142c8",
   "metadata": {},
   "outputs": [
    {
     "data": {
      "text/plain": [
       "'teen'"
      ]
     },
     "execution_count": 11,
     "metadata": {},
     "output_type": "execute_result"
    }
   ],
   "source": [
    "age = 12\n",
    "\n",
    "s = \"teen\" if age < 21 else \"adult\"\n",
    "s"
   ]
  },
  {
   "cell_type": "code",
   "execution_count": 12,
   "id": "f19fe11b",
   "metadata": {},
   "outputs": [
    {
     "data": {
      "text/plain": [
       "'no'"
      ]
     },
     "execution_count": 12,
     "metadata": {},
     "output_type": "execute_result"
    }
   ],
   "source": [
    "'yes' if ('qux' in ['foo', 'bar', 'baz']) else 'no'"
   ]
  },
  {
   "cell_type": "markdown",
   "id": "5ff73954",
   "metadata": {},
   "source": [
    "# The Python pass Statement"
   ]
  },
  {
   "cell_type": "code",
   "execution_count": 13,
   "id": "ec861be6",
   "metadata": {},
   "outputs": [
    {
     "ename": "IndentationError",
     "evalue": "expected an indented block after 'if' statement on line 1 (2249588765.py, line 3)",
     "output_type": "error",
     "traceback": [
      "\u001b[1;36m  Cell \u001b[1;32mIn[13], line 3\u001b[1;36m\u001b[0m\n\u001b[1;33m    print('foo')\u001b[0m\n\u001b[1;37m    ^\u001b[0m\n\u001b[1;31mIndentationError\u001b[0m\u001b[1;31m:\u001b[0m expected an indented block after 'if' statement on line 1\n"
     ]
    }
   ],
   "source": [
    "if True:\n",
    "    \n",
    "print('foo')"
   ]
  },
  {
   "cell_type": "code",
   "execution_count": 14,
   "id": "bf53c05a",
   "metadata": {},
   "outputs": [
    {
     "name": "stdout",
     "output_type": "stream",
     "text": [
      "foo\n"
     ]
    }
   ],
   "source": [
    "if True:\n",
    "    pass\n",
    "\n",
    "print('foo')"
   ]
  },
  {
   "cell_type": "markdown",
   "id": "f1084a4b",
   "metadata": {},
   "source": [
    "# \"While\" Loops"
   ]
  },
  {
   "cell_type": "code",
   "execution_count": 15,
   "id": "757e2d7f",
   "metadata": {},
   "outputs": [
    {
     "name": "stdout",
     "output_type": "stream",
     "text": [
      "4\n",
      "3\n",
      "2\n",
      "1\n",
      "0\n"
     ]
    }
   ],
   "source": [
    "n = 5\n",
    "\n",
    "while n > 0:\n",
    "    n -= 1\n",
    "    print(n)"
   ]
  },
  {
   "cell_type": "code",
   "execution_count": 16,
   "id": "5bec2841",
   "metadata": {},
   "outputs": [
    {
     "name": "stdout",
     "output_type": "stream",
     "text": [
      "1\n",
      "2\n",
      "3\n",
      "4\n",
      "5\n"
     ]
    }
   ],
   "source": [
    "i = 1\n",
    "\n",
    "while i < 6:\n",
    "    print(i)\n",
    "    i += 1"
   ]
  },
  {
   "cell_type": "code",
   "execution_count": 17,
   "id": "6f62714a",
   "metadata": {},
   "outputs": [
    {
     "name": "stdout",
     "output_type": "stream",
     "text": [
      "1\n",
      "3\n",
      "5\n"
     ]
    }
   ],
   "source": [
    "i = 1\n",
    "\n",
    "while i < 6:\n",
    "    print(i)\n",
    "    i += 2"
   ]
  },
  {
   "cell_type": "markdown",
   "id": "315b29ad",
   "metadata": {},
   "source": [
    "# Break and Continue Statements"
   ]
  },
  {
   "cell_type": "code",
   "execution_count": 18,
   "id": "b1114ede",
   "metadata": {},
   "outputs": [
    {
     "name": "stdout",
     "output_type": "stream",
     "text": [
      "4\n",
      "3\n",
      "Loop ended.\n"
     ]
    }
   ],
   "source": [
    "n = 5 \n",
    "\n",
    "while n > 0:\n",
    "    n -= 1\n",
    "    if n == 2:\n",
    "        break # break statement\n",
    "    print(n)\n",
    "print('Loop ended.')"
   ]
  },
  {
   "cell_type": "code",
   "execution_count": 20,
   "id": "bbb2a189",
   "metadata": {},
   "outputs": [
    {
     "name": "stdout",
     "output_type": "stream",
     "text": [
      "4\n",
      "3\n",
      "1\n",
      "0\n",
      "Loop Ended\n"
     ]
    }
   ],
   "source": [
    "n = 5\n",
    "\n",
    "while n > 0:\n",
    "    n -= 1\n",
    "    if n == 2:\n",
    "        continue\n",
    "    print(n)\n",
    "print('Loop Ended')"
   ]
  },
  {
   "cell_type": "markdown",
   "id": "c65314d7",
   "metadata": {},
   "source": [
    "# Else Clause"
   ]
  },
  {
   "cell_type": "code",
   "execution_count": 21,
   "id": "f7041dde",
   "metadata": {},
   "outputs": [
    {
     "name": "stdout",
     "output_type": "stream",
     "text": [
      "4\n",
      "3\n",
      "2\n",
      "1\n",
      "0\n",
      "Loop Done\n"
     ]
    }
   ],
   "source": [
    "n = 5 \n",
    "\n",
    "while n > 0:\n",
    "    n -= 1\n",
    "    print(n)\n",
    "else:\n",
    "    print('Loop Done')"
   ]
  },
  {
   "cell_type": "code",
   "execution_count": 28,
   "id": "0fe52a07",
   "metadata": {},
   "outputs": [
    {
     "name": "stdout",
     "output_type": "stream",
     "text": [
      "4\n",
      "3\n",
      "2\n"
     ]
    }
   ],
   "source": [
    "n = 5\n",
    "\n",
    "while n > 0:\n",
    "    n -= 1\n",
    "    print(n)\n",
    "    if n == 2:\n",
    "        break\n",
    "else:\n",
    "    print('Loop Done')"
   ]
  },
  {
   "cell_type": "code",
   "execution_count": 30,
   "id": "eb861ef8",
   "metadata": {},
   "outputs": [
    {
     "name": "stdout",
     "output_type": "stream",
     "text": [
      "Ketikan temperatur yang ingin di konversi, eg. 45F, 120C: 25C\n",
      "Temperature adalah 77 derajat\n"
     ]
    }
   ],
   "source": [
    "temp = input('Ketikan temperatur yang ingin di konversi, eg. 45F, 120C: ')\n",
    "degree = int(temp[:-1])\n",
    "i_convertion = temp[-1]\n",
    "\n",
    "if i_convertion == 'C':\n",
    "    result = int(round((9 * degree) / 5 + 32))\n",
    "elif i_convertion == 'F':\n",
    "    result = int(round((degree - 32) * 5 / 9))\n",
    "else:\n",
    "    print('Masukan input yang benar')\n",
    "\n",
    "print('Temperature adalah', result, 'derajat')"
   ]
  },
  {
   "cell_type": "code",
   "execution_count": 31,
   "id": "cf473671",
   "metadata": {},
   "outputs": [
    {
     "name": "stdout",
     "output_type": "stream",
     "text": [
      "Ketikan karakter: AKU SANGAT KEREN\n",
      "aku sangat keren\n",
      "Ketikan karakter: stop\n",
      "stop\n"
     ]
    }
   ],
   "source": [
    "while True:\n",
    "    msg = input('Ketikan karakter: ').lower()\n",
    "    print(msg)\n",
    "    if msg == 'stop':\n",
    "        break"
   ]
  },
  {
   "cell_type": "markdown",
   "id": "22eee9ae",
   "metadata": {},
   "source": [
    "# Infinite Loops"
   ]
  },
  {
   "cell_type": "code",
   "execution_count": null,
   "id": "4cb29651",
   "metadata": {},
   "outputs": [],
   "source": [
    "# jika code ini dijalankan, maka akan loop 'foo' secara terus menerus\n",
    "while True:\n",
    "    print('foo')"
   ]
  },
  {
   "cell_type": "markdown",
   "id": "29ccb3e1",
   "metadata": {},
   "source": [
    "# Nested While Loops"
   ]
  },
  {
   "cell_type": "code",
   "execution_count": 26,
   "id": "549d4f61",
   "metadata": {},
   "outputs": [
    {
     "name": "stdout",
     "output_type": "stream",
     "text": [
      "foo\n",
      "> baz\n",
      "> qux\n",
      "bar\n",
      "> baz\n",
      "> qux\n"
     ]
    }
   ],
   "source": [
    "a = ['foo', 'bar']\n",
    "\n",
    "while len(a):\n",
    "    print(a.pop(0))\n",
    "    \n",
    "    b = ['baz', 'qux']\n",
    "    \n",
    "    while len(b):\n",
    "        print('>', b.pop(0))"
   ]
  },
  {
   "cell_type": "markdown",
   "id": "dc8cd9f2",
   "metadata": {},
   "source": [
    "# One-Line While Loops"
   ]
  },
  {
   "cell_type": "code",
   "execution_count": 27,
   "id": "b1290396",
   "metadata": {},
   "outputs": [
    {
     "name": "stdout",
     "output_type": "stream",
     "text": [
      "4\n",
      "3\n",
      "2\n",
      "1\n",
      "0\n"
     ]
    }
   ],
   "source": [
    "# tidak rekomendasi\n",
    "n = 5\n",
    "\n",
    "while n > 0: n -= 1; print(n)"
   ]
  },
  {
   "cell_type": "code",
   "execution_count": null,
   "id": "ae0c56da",
   "metadata": {},
   "outputs": [],
   "source": []
  }
 ],
 "metadata": {
  "kernelspec": {
   "display_name": "Python 3 (ipykernel)",
   "language": "python",
   "name": "python3"
  },
  "language_info": {
   "codemirror_mode": {
    "name": "ipython",
    "version": 3
   },
   "file_extension": ".py",
   "mimetype": "text/x-python",
   "name": "python",
   "nbconvert_exporter": "python",
   "pygments_lexer": "ipython3",
   "version": "3.10.9"
  }
 },
 "nbformat": 4,
 "nbformat_minor": 5
}
