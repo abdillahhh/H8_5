{
 "cells": [
  {
   "cell_type": "markdown",
   "id": "0e5a7e29",
   "metadata": {},
   "source": [
    "## Function"
   ]
  },
  {
   "cell_type": "markdown",
   "id": "caff0cfa",
   "metadata": {},
   "source": [
    "Defining a Function"
   ]
  },
  {
   "cell_type": "code",
   "execution_count": 1,
   "id": "dc3b7967",
   "metadata": {},
   "outputs": [],
   "source": [
    "def my_function (p, l):\n",
    "    # function untuk menghitung luas\n",
    "    print(p * l)\n",
    "    "
   ]
  },
  {
   "cell_type": "code",
   "execution_count": 2,
   "id": "359badea",
   "metadata": {},
   "outputs": [
    {
     "name": "stdout",
     "output_type": "stream",
     "text": [
      "8\n"
     ]
    }
   ],
   "source": [
    "my_function(2,4)"
   ]
  },
  {
   "cell_type": "markdown",
   "id": "0267f415",
   "metadata": {},
   "source": [
    "Calling a Function"
   ]
  },
  {
   "cell_type": "code",
   "execution_count": 3,
   "id": "309968cc",
   "metadata": {},
   "outputs": [
    {
     "name": "stdout",
     "output_type": "stream",
     "text": [
      "Panggilan pertama untuk menentukan function\n",
      "Panggil kedua untuk function yag sama\n"
     ]
    }
   ],
   "source": [
    "def printme(str):\n",
    "    print(str)\n",
    "    return;\n",
    "\n",
    "printme('Panggilan pertama untuk menentukan function')\n",
    "printme('Panggil kedua untuk function yag sama')"
   ]
  },
  {
   "cell_type": "markdown",
   "id": "2e364bcf",
   "metadata": {},
   "source": [
    "Pass by Reference vs Value"
   ]
  },
  {
   "cell_type": "code",
   "execution_count": 4,
   "id": "c8994e1e",
   "metadata": {},
   "outputs": [
    {
     "name": "stdout",
     "output_type": "stream",
     "text": [
      "Values inside the function:  [10, 20, 30, [1, 2, 3, 4]]\n",
      "Values outside the function:  [10, 20, 30, [1, 2, 3, 4]]\n"
     ]
    }
   ],
   "source": [
    "def changeme(mylist):\n",
    "    mylist.append([1,2,3,4]);\n",
    "    print('Values inside the function: ', mylist)\n",
    "    return\n",
    "\n",
    "mylist = [10,20,30];\n",
    "changeme(mylist);\n",
    "print('Values outside the function: ', mylist)"
   ]
  },
  {
   "cell_type": "code",
   "execution_count": 5,
   "id": "56d03543",
   "metadata": {},
   "outputs": [
    {
     "name": "stdout",
     "output_type": "stream",
     "text": [
      "Values inside the function:  [1, 2, 3, 4]\n",
      "Values outside the function:  [10, 20, 30]\n"
     ]
    }
   ],
   "source": [
    "def changeme(mylist):\n",
    "    mylist= [1,2,3,4];\n",
    "    print('Values inside the function: ', mylist)\n",
    "    return\n",
    "\n",
    "mylist = [10,20,30];\n",
    "changeme(mylist);\n",
    "print('Values outside the function: ', mylist)"
   ]
  },
  {
   "cell_type": "markdown",
   "id": "7bee4931",
   "metadata": {},
   "source": [
    "####################\n",
    "FUNCTION ARGUMENTS"
   ]
  },
  {
   "cell_type": "markdown",
   "id": "9f74ce3a",
   "metadata": {},
   "source": [
    "Required Arguments"
   ]
  },
  {
   "cell_type": "code",
   "execution_count": 6,
   "id": "afc501ff",
   "metadata": {},
   "outputs": [
    {
     "name": "stdout",
     "output_type": "stream",
     "text": [
      "Belajar function\n"
     ]
    }
   ],
   "source": [
    "def printme(str):\n",
    "    print(str)\n",
    "    return;\n",
    "\n",
    "printme('Belajar function')"
   ]
  },
  {
   "cell_type": "markdown",
   "id": "4d173f04",
   "metadata": {},
   "source": [
    "Keyword Arguments"
   ]
  },
  {
   "cell_type": "code",
   "execution_count": 7,
   "id": "98fdf389",
   "metadata": {},
   "outputs": [
    {
     "name": "stdout",
     "output_type": "stream",
     "text": [
      "Belajar function\n"
     ]
    }
   ],
   "source": [
    "def printme(str):\n",
    "    print(str)\n",
    "    return;\n",
    "\n",
    "printme(str = 'Belajar function')"
   ]
  },
  {
   "cell_type": "code",
   "execution_count": 8,
   "id": "d1fe9b30",
   "metadata": {},
   "outputs": [
    {
     "name": "stdout",
     "output_type": "stream",
     "text": [
      "Name:  sadam\n",
      "Age:  4\n"
     ]
    }
   ],
   "source": [
    "def printinfo(name,age):\n",
    "    print('Name: ', name)\n",
    "    print('Age: ', age)\n",
    "    return;\n",
    "\n",
    "printinfo(age=4, name='sadam')"
   ]
  },
  {
   "cell_type": "markdown",
   "id": "99fecc68",
   "metadata": {},
   "source": [
    "Default Arguments"
   ]
  },
  {
   "cell_type": "code",
   "execution_count": 9,
   "id": "7c872139",
   "metadata": {},
   "outputs": [
    {
     "name": "stdout",
     "output_type": "stream",
     "text": [
      "Name:  Sadam\n",
      "Age:  21\n",
      "Name:  Sadam\n",
      "Age:  26\n"
     ]
    }
   ],
   "source": [
    "def printinfo(name,age=26):\n",
    "    print('Name: ', name)\n",
    "    print('Age: ', age)\n",
    "    return;\n",
    "\n",
    "printinfo(age=21, name='Sadam')\n",
    "printinfo(name='Sadam')"
   ]
  },
  {
   "cell_type": "markdown",
   "id": "c1ca56c1",
   "metadata": {},
   "source": [
    "Variable-Length Arguments"
   ]
  },
  {
   "cell_type": "code",
   "execution_count": 10,
   "id": "d42eca53",
   "metadata": {},
   "outputs": [
    {
     "name": "stdout",
     "output_type": "stream",
     "text": [
      "Output is: \n",
      "10\n",
      "Output is: \n",
      "70\n",
      "60\n",
      "50\n",
      "a\n"
     ]
    }
   ],
   "source": [
    "def printinfo(arg1,*vartuple):\n",
    "    print('Output is: ')\n",
    "    print(arg1)\n",
    "    for var in vartuple:\n",
    "        print(var)\n",
    "    return;\n",
    "\n",
    "printinfo(10)\n",
    "printinfo(70,60,50,'a')"
   ]
  },
  {
   "cell_type": "markdown",
   "id": "38723258",
   "metadata": {},
   "source": [
    "###############"
   ]
  },
  {
   "cell_type": "markdown",
   "id": "c790bb0a",
   "metadata": {},
   "source": [
    "The Anonymous Function"
   ]
  },
  {
   "cell_type": "code",
   "execution_count": 11,
   "id": "326af3e2",
   "metadata": {},
   "outputs": [
    {
     "name": "stdout",
     "output_type": "stream",
     "text": [
      "Value of total :  30\n",
      "Value of total :  40\n"
     ]
    }
   ],
   "source": [
    "sum = lambda arg1,arg2: arg1 + arg2;\n",
    "\n",
    "print('Value of total : ', sum(10,20))\n",
    "print('Value of total : ', sum(20,20))"
   ]
  },
  {
   "cell_type": "markdown",
   "id": "10ae795b",
   "metadata": {},
   "source": [
    "The Return Statement"
   ]
  },
  {
   "cell_type": "code",
   "execution_count": 12,
   "id": "1c33eb88",
   "metadata": {},
   "outputs": [
    {
     "name": "stdout",
     "output_type": "stream",
     "text": [
      "Inside the function :  30\n",
      "Outside the function :  40\n"
     ]
    }
   ],
   "source": [
    "def sum(arg1,arg2):\n",
    "    total = arg1 + arg2\n",
    "    total2 = total + arg1\n",
    "    print('Inside the function : ', total)\n",
    "    return total2\n",
    "\n",
    "total = sum(10,20)\n",
    "print('Outside the function : ', total)"
   ]
  },
  {
   "cell_type": "markdown",
   "id": "51a89187",
   "metadata": {},
   "source": [
    "#########\n",
    "SCOPE OF VARIABLES"
   ]
  },
  {
   "cell_type": "markdown",
   "id": "00341185",
   "metadata": {},
   "source": [
    "Global vs Local Variables"
   ]
  },
  {
   "cell_type": "code",
   "execution_count": 13,
   "id": "098be775",
   "metadata": {},
   "outputs": [
    {
     "name": "stdout",
     "output_type": "stream",
     "text": [
      "Inside the function local total :  30\n",
      "Outside the function global total :  0\n"
     ]
    }
   ],
   "source": [
    "total = 0;\n",
    "\n",
    "def sum(arg1,arg2):\n",
    "    total = arg1 + arg2;\n",
    "    print('Inside the function local total : ', total)\n",
    "    return total;\n",
    "\n",
    "\n",
    "sum(10,20);\n",
    "print('Outside the function global total : ', total)"
   ]
  },
  {
   "cell_type": "code",
   "execution_count": 14,
   "id": "cf4dea7d",
   "metadata": {},
   "outputs": [
    {
     "data": {
      "text/plain": [
       "40"
      ]
     },
     "execution_count": 14,
     "metadata": {},
     "output_type": "execute_result"
    }
   ],
   "source": [
    "jumlah_kucing = 20\n",
    "\n",
    "def jumlah_hewan():\n",
    "    jumlah_anjing = 30\n",
    "    return jumlah_kucing + jumlah_anjing\n",
    "\n",
    "def jumlah_kelinci():\n",
    "    return jumlah_kucing + jumlah_kucing\n",
    "\n",
    "jumlah_hewan()\n",
    "jumlah_kelinci()"
   ]
  },
  {
   "cell_type": "markdown",
   "id": "19e31ef3",
   "metadata": {},
   "source": [
    "## Python Modules"
   ]
  },
  {
   "cell_type": "code",
   "execution_count": 15,
   "id": "4fb2ce85",
   "metadata": {},
   "outputs": [],
   "source": [
    "import mod"
   ]
  },
  {
   "cell_type": "code",
   "execution_count": 16,
   "id": "d1ea0cbe",
   "metadata": {},
   "outputs": [
    {
     "name": "stdout",
     "output_type": "stream",
     "text": [
      "Hacktiv8-PTP Python For Data Science\n"
     ]
    }
   ],
   "source": [
    "print(mod.s)"
   ]
  },
  {
   "cell_type": "code",
   "execution_count": 17,
   "id": "40ed7925",
   "metadata": {},
   "outputs": [
    {
     "data": {
      "text/plain": [
       "[100, 200, 300]"
      ]
     },
     "execution_count": 17,
     "metadata": {},
     "output_type": "execute_result"
    }
   ],
   "source": [
    "mod.a"
   ]
  },
  {
   "cell_type": "code",
   "execution_count": 18,
   "id": "7f1d4e45",
   "metadata": {},
   "outputs": [
    {
     "name": "stdout",
     "output_type": "stream",
     "text": [
      "arg = ['quux', 'corge', 'grault']\n"
     ]
    }
   ],
   "source": [
    "mod.foo(['quux', 'corge', 'grault'])"
   ]
  },
  {
   "cell_type": "code",
   "execution_count": 19,
   "id": "e5724ff1",
   "metadata": {},
   "outputs": [
    {
     "data": {
      "text/plain": [
       "<mod.Foo at 0x1cae240c370>"
      ]
     },
     "execution_count": 19,
     "metadata": {},
     "output_type": "execute_result"
    }
   ],
   "source": [
    "x = mod.Foo()\n",
    "x"
   ]
  },
  {
   "cell_type": "markdown",
   "id": "e6cdf6b5",
   "metadata": {},
   "source": [
    "The Module Search Path"
   ]
  },
  {
   "cell_type": "code",
   "execution_count": 20,
   "id": "6266807a",
   "metadata": {},
   "outputs": [
    {
     "data": {
      "text/plain": [
       "['C:\\\\Users\\\\Lenovo\\\\Studi Independen\\\\Function, Module dan Package (Sesi 3)',\n",
       " 'C:\\\\Users\\\\Lenovo\\\\anaconda4\\\\python310.zip',\n",
       " 'C:\\\\Users\\\\Lenovo\\\\anaconda4\\\\DLLs',\n",
       " 'C:\\\\Users\\\\Lenovo\\\\anaconda4\\\\lib',\n",
       " 'C:\\\\Users\\\\Lenovo\\\\anaconda4',\n",
       " '',\n",
       " 'C:\\\\Users\\\\Lenovo\\\\anaconda4\\\\lib\\\\site-packages',\n",
       " 'C:\\\\Users\\\\Lenovo\\\\anaconda4\\\\lib\\\\site-packages\\\\win32',\n",
       " 'C:\\\\Users\\\\Lenovo\\\\anaconda4\\\\lib\\\\site-packages\\\\win32\\\\lib',\n",
       " 'C:\\\\Users\\\\Lenovo\\\\anaconda4\\\\lib\\\\site-packages\\\\Pythonwin']"
      ]
     },
     "execution_count": 20,
     "metadata": {},
     "output_type": "execute_result"
    }
   ],
   "source": [
    "import sys\n",
    "sys.path"
   ]
  },
  {
   "cell_type": "code",
   "execution_count": 23,
   "id": "840845e0",
   "metadata": {},
   "outputs": [],
   "source": [
    "sys.path.append(r'C:\\\\Users\\\\Lenovo\\\\Studi Independen\\\\Function, Module dan Package (Sesi 3)')\n",
    "sys.path\n",
    "\n",
    "import mod"
   ]
  },
  {
   "cell_type": "code",
   "execution_count": 26,
   "id": "3e4fc66a",
   "metadata": {},
   "outputs": [
    {
     "data": {
      "text/plain": [
       "'C:\\\\Users\\\\Lenovo\\\\Studi Independen\\\\Function, Module dan Package (Sesi 3)\\\\mod.py'"
      ]
     },
     "execution_count": 26,
     "metadata": {},
     "output_type": "execute_result"
    }
   ],
   "source": [
    "import mod\n",
    "mod.__file__"
   ]
  },
  {
   "cell_type": "code",
   "execution_count": 27,
   "id": "43f82955",
   "metadata": {},
   "outputs": [
    {
     "data": {
      "text/plain": [
       "'C:\\\\Users\\\\Lenovo\\\\anaconda4\\\\lib\\\\re.py'"
      ]
     },
     "execution_count": 27,
     "metadata": {},
     "output_type": "execute_result"
    }
   ],
   "source": [
    "import re\n",
    "re.__file__"
   ]
  },
  {
   "cell_type": "markdown",
   "id": "ae59c001",
   "metadata": {},
   "source": [
    "The Import Statement"
   ]
  },
  {
   "cell_type": "code",
   "execution_count": 28,
   "id": "df23c36d",
   "metadata": {},
   "outputs": [
    {
     "data": {
      "text/plain": [
       "<module 'mod' from 'C:\\\\Users\\\\Lenovo\\\\Studi Independen\\\\Function, Module dan Package (Sesi 3)\\\\mod.py'>"
      ]
     },
     "execution_count": 28,
     "metadata": {},
     "output_type": "execute_result"
    }
   ],
   "source": [
    "import mod\n",
    "mod"
   ]
  },
  {
   "cell_type": "code",
   "execution_count": 34,
   "id": "d1bcef78",
   "metadata": {},
   "outputs": [
    {
     "data": {
      "text/plain": [
       "'Hacktiv8-PTP Python For Data Science'"
      ]
     },
     "execution_count": 34,
     "metadata": {},
     "output_type": "execute_result"
    }
   ],
   "source": [
    "mod.s"
   ]
  },
  {
   "cell_type": "code",
   "execution_count": 35,
   "id": "178f11e0",
   "metadata": {},
   "outputs": [
    {
     "name": "stdout",
     "output_type": "stream",
     "text": [
      "arg = quux\n"
     ]
    }
   ],
   "source": [
    "mod.foo('quux')"
   ]
  },
  {
   "cell_type": "code",
   "execution_count": 36,
   "id": "b84166a3",
   "metadata": {},
   "outputs": [],
   "source": [
    "from mod import s, foo"
   ]
  },
  {
   "cell_type": "code",
   "execution_count": 37,
   "id": "dda87533",
   "metadata": {},
   "outputs": [
    {
     "data": {
      "text/plain": [
       "'Hacktiv8-PTP Python For Data Science'"
      ]
     },
     "execution_count": 37,
     "metadata": {},
     "output_type": "execute_result"
    }
   ],
   "source": [
    "s"
   ]
  },
  {
   "cell_type": "code",
   "execution_count": 39,
   "id": "f23fe06d",
   "metadata": {},
   "outputs": [
    {
     "name": "stdout",
     "output_type": "stream",
     "text": [
      "arg = cukurukuk\n"
     ]
    }
   ],
   "source": [
    "foo('cukurukuk')"
   ]
  },
  {
   "cell_type": "code",
   "execution_count": 41,
   "id": "a57bafc2",
   "metadata": {},
   "outputs": [
    {
     "data": {
      "text/plain": [
       "<mod.Foo at 0x1cae2414100>"
      ]
     },
     "execution_count": 41,
     "metadata": {},
     "output_type": "execute_result"
    }
   ],
   "source": [
    "from mod import Foo\n",
    "x = Foo()\n",
    "x"
   ]
  },
  {
   "cell_type": "code",
   "execution_count": 42,
   "id": "09d0b52d",
   "metadata": {},
   "outputs": [
    {
     "data": {
      "text/plain": [
       "['foo', 'bar', 'baz']"
      ]
     },
     "execution_count": 42,
     "metadata": {},
     "output_type": "execute_result"
    }
   ],
   "source": [
    "a = ['foo', 'bar', 'baz']\n",
    "a"
   ]
  },
  {
   "cell_type": "code",
   "execution_count": 47,
   "id": "3ddd1d62",
   "metadata": {},
   "outputs": [
    {
     "data": {
      "text/plain": [
       "[100, 200, 300]"
      ]
     },
     "execution_count": 47,
     "metadata": {},
     "output_type": "execute_result"
    }
   ],
   "source": [
    "from mod import a\n",
    "a"
   ]
  },
  {
   "cell_type": "code",
   "execution_count": 48,
   "id": "e8a8622a",
   "metadata": {},
   "outputs": [
    {
     "data": {
      "text/plain": [
       "'Hacktiv8-PTP Python For Data Science'"
      ]
     },
     "execution_count": 48,
     "metadata": {},
     "output_type": "execute_result"
    }
   ],
   "source": [
    "from mod import *\n",
    "s"
   ]
  },
  {
   "cell_type": "code",
   "execution_count": 49,
   "id": "5bb10b4c",
   "metadata": {},
   "outputs": [
    {
     "data": {
      "text/plain": [
       "[100, 200, 300]"
      ]
     },
     "execution_count": 49,
     "metadata": {},
     "output_type": "execute_result"
    }
   ],
   "source": [
    "a"
   ]
  },
  {
   "cell_type": "code",
   "execution_count": 51,
   "id": "ceb8c023",
   "metadata": {},
   "outputs": [
    {
     "data": {
      "text/plain": [
       "<function mod.foo(arg)>"
      ]
     },
     "execution_count": 51,
     "metadata": {},
     "output_type": "execute_result"
    }
   ],
   "source": [
    "foo"
   ]
  },
  {
   "cell_type": "code",
   "execution_count": 52,
   "id": "68c1d111",
   "metadata": {},
   "outputs": [
    {
     "data": {
      "text/plain": [
       "mod.Foo"
      ]
     },
     "execution_count": 52,
     "metadata": {},
     "output_type": "execute_result"
    }
   ],
   "source": [
    "Foo"
   ]
  },
  {
   "cell_type": "code",
   "execution_count": 53,
   "id": "a83d2217",
   "metadata": {},
   "outputs": [
    {
     "data": {
      "text/plain": [
       "'foo'"
      ]
     },
     "execution_count": 53,
     "metadata": {},
     "output_type": "execute_result"
    }
   ],
   "source": [
    "s = 'foo'\n",
    "a = ['foo', 'bar', 'baz']\n",
    "\n",
    "from mod import s as string, a as alist\n",
    "s"
   ]
  },
  {
   "cell_type": "code",
   "execution_count": 54,
   "id": "09cd31c3",
   "metadata": {},
   "outputs": [
    {
     "data": {
      "text/plain": [
       "['foo', 'bar', 'baz']"
      ]
     },
     "execution_count": 54,
     "metadata": {},
     "output_type": "execute_result"
    }
   ],
   "source": [
    "a"
   ]
  },
  {
   "cell_type": "code",
   "execution_count": 55,
   "id": "c9961b3c",
   "metadata": {},
   "outputs": [
    {
     "data": {
      "text/plain": [
       "[100, 200, 300]"
      ]
     },
     "execution_count": 55,
     "metadata": {},
     "output_type": "execute_result"
    }
   ],
   "source": [
    "alist"
   ]
  },
  {
   "cell_type": "code",
   "execution_count": 56,
   "id": "67468790",
   "metadata": {},
   "outputs": [
    {
     "data": {
      "text/plain": [
       "'Hacktiv8-PTP Python For Data Science'"
      ]
     },
     "execution_count": 56,
     "metadata": {},
     "output_type": "execute_result"
    }
   ],
   "source": [
    "string"
   ]
  },
  {
   "cell_type": "code",
   "execution_count": 57,
   "id": "952e44b2",
   "metadata": {},
   "outputs": [
    {
     "data": {
      "text/plain": [
       "[100, 200, 300]"
      ]
     },
     "execution_count": 57,
     "metadata": {},
     "output_type": "execute_result"
    }
   ],
   "source": [
    "import mod as my_module\n",
    "my_module.a"
   ]
  },
  {
   "cell_type": "code",
   "execution_count": 58,
   "id": "1661ae85",
   "metadata": {},
   "outputs": [
    {
     "name": "stdout",
     "output_type": "stream",
     "text": [
      "arg = qux\n"
     ]
    }
   ],
   "source": [
    "my_module.foo('qux')"
   ]
  },
  {
   "cell_type": "code",
   "execution_count": 61,
   "id": "7f6aa5a5",
   "metadata": {},
   "outputs": [
    {
     "name": "stdout",
     "output_type": "stream",
     "text": [
      "arg = corge\n"
     ]
    }
   ],
   "source": [
    "def bar():\n",
    "    from mod import foo\n",
    "    foo('corge')\n",
    "    return\n",
    "\n",
    "bar()"
   ]
  },
  {
   "cell_type": "code",
   "execution_count": 65,
   "id": "9ce37564",
   "metadata": {},
   "outputs": [
    {
     "name": "stdout",
     "output_type": "stream",
     "text": [
      "Module not found\n"
     ]
    }
   ],
   "source": [
    "try:\n",
    "    import baz\n",
    "except ImportError:\n",
    "    print('Module not found')"
   ]
  },
  {
   "cell_type": "code",
   "execution_count": 70,
   "id": "eb675b25",
   "metadata": {},
   "outputs": [
    {
     "name": "stdout",
     "output_type": "stream",
     "text": [
      "Object not found in module\n"
     ]
    }
   ],
   "source": [
    "try:\n",
    "    from mod import baz\n",
    "except ImportError:\n",
    "    print('Object not found in module')"
   ]
  },
  {
   "cell_type": "markdown",
   "id": "30b31efc",
   "metadata": {},
   "source": [
    "The dir() Function"
   ]
  },
  {
   "cell_type": "code",
   "execution_count": 71,
   "id": "bf1b2e21",
   "metadata": {},
   "outputs": [
    {
     "data": {
      "text/plain": [
       "['Foo',\n",
       " 'In',\n",
       " 'Out',\n",
       " '_',\n",
       " '_14',\n",
       " '_17',\n",
       " '_19',\n",
       " '_20',\n",
       " '_21',\n",
       " '_26',\n",
       " '_27',\n",
       " '_28',\n",
       " '_30',\n",
       " '_31',\n",
       " '_32',\n",
       " '_34',\n",
       " '_37',\n",
       " '_38',\n",
       " '_41',\n",
       " '_42',\n",
       " '_43',\n",
       " '_44',\n",
       " '_47',\n",
       " '_48',\n",
       " '_49',\n",
       " '_50',\n",
       " '_51',\n",
       " '_52',\n",
       " '_53',\n",
       " '_54',\n",
       " '_55',\n",
       " '_56',\n",
       " '_57',\n",
       " '__',\n",
       " '___',\n",
       " '__builtin__',\n",
       " '__builtins__',\n",
       " '__doc__',\n",
       " '__loader__',\n",
       " '__name__',\n",
       " '__package__',\n",
       " '__spec__',\n",
       " '_dh',\n",
       " '_i',\n",
       " '_i1',\n",
       " '_i10',\n",
       " '_i11',\n",
       " '_i12',\n",
       " '_i13',\n",
       " '_i14',\n",
       " '_i15',\n",
       " '_i16',\n",
       " '_i17',\n",
       " '_i18',\n",
       " '_i19',\n",
       " '_i2',\n",
       " '_i20',\n",
       " '_i21',\n",
       " '_i22',\n",
       " '_i23',\n",
       " '_i24',\n",
       " '_i25',\n",
       " '_i26',\n",
       " '_i27',\n",
       " '_i28',\n",
       " '_i29',\n",
       " '_i3',\n",
       " '_i30',\n",
       " '_i31',\n",
       " '_i32',\n",
       " '_i33',\n",
       " '_i34',\n",
       " '_i35',\n",
       " '_i36',\n",
       " '_i37',\n",
       " '_i38',\n",
       " '_i39',\n",
       " '_i4',\n",
       " '_i40',\n",
       " '_i41',\n",
       " '_i42',\n",
       " '_i43',\n",
       " '_i44',\n",
       " '_i45',\n",
       " '_i46',\n",
       " '_i47',\n",
       " '_i48',\n",
       " '_i49',\n",
       " '_i5',\n",
       " '_i50',\n",
       " '_i51',\n",
       " '_i52',\n",
       " '_i53',\n",
       " '_i54',\n",
       " '_i55',\n",
       " '_i56',\n",
       " '_i57',\n",
       " '_i58',\n",
       " '_i59',\n",
       " '_i6',\n",
       " '_i60',\n",
       " '_i61',\n",
       " '_i62',\n",
       " '_i63',\n",
       " '_i64',\n",
       " '_i65',\n",
       " '_i66',\n",
       " '_i67',\n",
       " '_i68',\n",
       " '_i69',\n",
       " '_i7',\n",
       " '_i70',\n",
       " '_i71',\n",
       " '_i8',\n",
       " '_i9',\n",
       " '_ih',\n",
       " '_ii',\n",
       " '_iii',\n",
       " '_oh',\n",
       " 'a',\n",
       " 'alist',\n",
       " 'bar',\n",
       " 'changeme',\n",
       " 'exit',\n",
       " 'foo',\n",
       " 'get_ipython',\n",
       " 'jumlah_hewan',\n",
       " 'jumlah_kelinci',\n",
       " 'jumlah_kucing',\n",
       " 'mod',\n",
       " 'my_function',\n",
       " 'my_module',\n",
       " 'mylist',\n",
       " 'open',\n",
       " 'printinfo',\n",
       " 'printme',\n",
       " 'quit',\n",
       " 're',\n",
       " 's',\n",
       " 'string',\n",
       " 'sum',\n",
       " 'sys',\n",
       " 'total',\n",
       " 'x']"
      ]
     },
     "execution_count": 71,
     "metadata": {},
     "output_type": "execute_result"
    }
   ],
   "source": [
    "dir()"
   ]
  },
  {
   "cell_type": "code",
   "execution_count": 72,
   "id": "872569f9",
   "metadata": {},
   "outputs": [
    {
     "data": {
      "text/plain": [
       "['Foo',\n",
       " 'In',\n",
       " 'Out',\n",
       " '_',\n",
       " '_14',\n",
       " '_17',\n",
       " '_19',\n",
       " '_20',\n",
       " '_21',\n",
       " '_26',\n",
       " '_27',\n",
       " '_28',\n",
       " '_30',\n",
       " '_31',\n",
       " '_32',\n",
       " '_34',\n",
       " '_37',\n",
       " '_38',\n",
       " '_41',\n",
       " '_42',\n",
       " '_43',\n",
       " '_44',\n",
       " '_47',\n",
       " '_48',\n",
       " '_49',\n",
       " '_50',\n",
       " '_51',\n",
       " '_52',\n",
       " '_53',\n",
       " '_54',\n",
       " '_55',\n",
       " '_56',\n",
       " '_57',\n",
       " '_71',\n",
       " '__',\n",
       " '___',\n",
       " '__builtin__',\n",
       " '__builtins__',\n",
       " '__doc__',\n",
       " '__loader__',\n",
       " '__name__',\n",
       " '__package__',\n",
       " '__spec__',\n",
       " '_dh',\n",
       " '_i',\n",
       " '_i1',\n",
       " '_i10',\n",
       " '_i11',\n",
       " '_i12',\n",
       " '_i13',\n",
       " '_i14',\n",
       " '_i15',\n",
       " '_i16',\n",
       " '_i17',\n",
       " '_i18',\n",
       " '_i19',\n",
       " '_i2',\n",
       " '_i20',\n",
       " '_i21',\n",
       " '_i22',\n",
       " '_i23',\n",
       " '_i24',\n",
       " '_i25',\n",
       " '_i26',\n",
       " '_i27',\n",
       " '_i28',\n",
       " '_i29',\n",
       " '_i3',\n",
       " '_i30',\n",
       " '_i31',\n",
       " '_i32',\n",
       " '_i33',\n",
       " '_i34',\n",
       " '_i35',\n",
       " '_i36',\n",
       " '_i37',\n",
       " '_i38',\n",
       " '_i39',\n",
       " '_i4',\n",
       " '_i40',\n",
       " '_i41',\n",
       " '_i42',\n",
       " '_i43',\n",
       " '_i44',\n",
       " '_i45',\n",
       " '_i46',\n",
       " '_i47',\n",
       " '_i48',\n",
       " '_i49',\n",
       " '_i5',\n",
       " '_i50',\n",
       " '_i51',\n",
       " '_i52',\n",
       " '_i53',\n",
       " '_i54',\n",
       " '_i55',\n",
       " '_i56',\n",
       " '_i57',\n",
       " '_i58',\n",
       " '_i59',\n",
       " '_i6',\n",
       " '_i60',\n",
       " '_i61',\n",
       " '_i62',\n",
       " '_i63',\n",
       " '_i64',\n",
       " '_i65',\n",
       " '_i66',\n",
       " '_i67',\n",
       " '_i68',\n",
       " '_i69',\n",
       " '_i7',\n",
       " '_i70',\n",
       " '_i71',\n",
       " '_i72',\n",
       " '_i8',\n",
       " '_i9',\n",
       " '_ih',\n",
       " '_ii',\n",
       " '_iii',\n",
       " '_oh',\n",
       " 'a',\n",
       " 'alist',\n",
       " 'bar',\n",
       " 'changeme',\n",
       " 'exit',\n",
       " 'foo',\n",
       " 'get_ipython',\n",
       " 'jumlah_hewan',\n",
       " 'jumlah_kelinci',\n",
       " 'jumlah_kucing',\n",
       " 'mod',\n",
       " 'my_function',\n",
       " 'my_module',\n",
       " 'mylist',\n",
       " 'open',\n",
       " 'printinfo',\n",
       " 'printme',\n",
       " 'quit',\n",
       " 'qux',\n",
       " 're',\n",
       " 's',\n",
       " 'string',\n",
       " 'sum',\n",
       " 'sys',\n",
       " 'total',\n",
       " 'x']"
      ]
     },
     "execution_count": 72,
     "metadata": {},
     "output_type": "execute_result"
    }
   ],
   "source": [
    "qux = [1,2,3,4,5]\n",
    "dir()"
   ]
  },
  {
   "cell_type": "code",
   "execution_count": 73,
   "id": "f9b2b6b6",
   "metadata": {},
   "outputs": [
    {
     "data": {
      "text/plain": [
       "['Bar',\n",
       " 'Foo',\n",
       " 'In',\n",
       " 'Out',\n",
       " '_',\n",
       " '_14',\n",
       " '_17',\n",
       " '_19',\n",
       " '_20',\n",
       " '_21',\n",
       " '_26',\n",
       " '_27',\n",
       " '_28',\n",
       " '_30',\n",
       " '_31',\n",
       " '_32',\n",
       " '_34',\n",
       " '_37',\n",
       " '_38',\n",
       " '_41',\n",
       " '_42',\n",
       " '_43',\n",
       " '_44',\n",
       " '_47',\n",
       " '_48',\n",
       " '_49',\n",
       " '_50',\n",
       " '_51',\n",
       " '_52',\n",
       " '_53',\n",
       " '_54',\n",
       " '_55',\n",
       " '_56',\n",
       " '_57',\n",
       " '_71',\n",
       " '_72',\n",
       " '__',\n",
       " '___',\n",
       " '__builtin__',\n",
       " '__builtins__',\n",
       " '__doc__',\n",
       " '__loader__',\n",
       " '__name__',\n",
       " '__package__',\n",
       " '__spec__',\n",
       " '_dh',\n",
       " '_i',\n",
       " '_i1',\n",
       " '_i10',\n",
       " '_i11',\n",
       " '_i12',\n",
       " '_i13',\n",
       " '_i14',\n",
       " '_i15',\n",
       " '_i16',\n",
       " '_i17',\n",
       " '_i18',\n",
       " '_i19',\n",
       " '_i2',\n",
       " '_i20',\n",
       " '_i21',\n",
       " '_i22',\n",
       " '_i23',\n",
       " '_i24',\n",
       " '_i25',\n",
       " '_i26',\n",
       " '_i27',\n",
       " '_i28',\n",
       " '_i29',\n",
       " '_i3',\n",
       " '_i30',\n",
       " '_i31',\n",
       " '_i32',\n",
       " '_i33',\n",
       " '_i34',\n",
       " '_i35',\n",
       " '_i36',\n",
       " '_i37',\n",
       " '_i38',\n",
       " '_i39',\n",
       " '_i4',\n",
       " '_i40',\n",
       " '_i41',\n",
       " '_i42',\n",
       " '_i43',\n",
       " '_i44',\n",
       " '_i45',\n",
       " '_i46',\n",
       " '_i47',\n",
       " '_i48',\n",
       " '_i49',\n",
       " '_i5',\n",
       " '_i50',\n",
       " '_i51',\n",
       " '_i52',\n",
       " '_i53',\n",
       " '_i54',\n",
       " '_i55',\n",
       " '_i56',\n",
       " '_i57',\n",
       " '_i58',\n",
       " '_i59',\n",
       " '_i6',\n",
       " '_i60',\n",
       " '_i61',\n",
       " '_i62',\n",
       " '_i63',\n",
       " '_i64',\n",
       " '_i65',\n",
       " '_i66',\n",
       " '_i67',\n",
       " '_i68',\n",
       " '_i69',\n",
       " '_i7',\n",
       " '_i70',\n",
       " '_i71',\n",
       " '_i72',\n",
       " '_i73',\n",
       " '_i8',\n",
       " '_i9',\n",
       " '_ih',\n",
       " '_ii',\n",
       " '_iii',\n",
       " '_oh',\n",
       " 'a',\n",
       " 'alist',\n",
       " 'bar',\n",
       " 'changeme',\n",
       " 'exit',\n",
       " 'foo',\n",
       " 'get_ipython',\n",
       " 'jumlah_hewan',\n",
       " 'jumlah_kelinci',\n",
       " 'jumlah_kucing',\n",
       " 'mod',\n",
       " 'my_function',\n",
       " 'my_module',\n",
       " 'mylist',\n",
       " 'open',\n",
       " 'printinfo',\n",
       " 'printme',\n",
       " 'quit',\n",
       " 'qux',\n",
       " 're',\n",
       " 's',\n",
       " 'string',\n",
       " 'sum',\n",
       " 'sys',\n",
       " 'total',\n",
       " 'x']"
      ]
     },
     "execution_count": 73,
     "metadata": {},
     "output_type": "execute_result"
    }
   ],
   "source": [
    "class Bar():\n",
    "    pass\n",
    "\n",
    "x = Bar()\n",
    "dir()"
   ]
  },
  {
   "cell_type": "code",
   "execution_count": 74,
   "id": "40042d9e",
   "metadata": {},
   "outputs": [
    {
     "data": {
      "text/plain": [
       "['Bar',\n",
       " 'Foo',\n",
       " 'In',\n",
       " 'Out',\n",
       " '_',\n",
       " '_14',\n",
       " '_17',\n",
       " '_19',\n",
       " '_20',\n",
       " '_21',\n",
       " '_26',\n",
       " '_27',\n",
       " '_28',\n",
       " '_30',\n",
       " '_31',\n",
       " '_32',\n",
       " '_34',\n",
       " '_37',\n",
       " '_38',\n",
       " '_41',\n",
       " '_42',\n",
       " '_43',\n",
       " '_44',\n",
       " '_47',\n",
       " '_48',\n",
       " '_49',\n",
       " '_50',\n",
       " '_51',\n",
       " '_52',\n",
       " '_53',\n",
       " '_54',\n",
       " '_55',\n",
       " '_56',\n",
       " '_57',\n",
       " '_71',\n",
       " '_72',\n",
       " '_73',\n",
       " '__',\n",
       " '___',\n",
       " '__builtin__',\n",
       " '__builtins__',\n",
       " '__doc__',\n",
       " '__loader__',\n",
       " '__name__',\n",
       " '__package__',\n",
       " '__spec__',\n",
       " '_dh',\n",
       " '_i',\n",
       " '_i1',\n",
       " '_i10',\n",
       " '_i11',\n",
       " '_i12',\n",
       " '_i13',\n",
       " '_i14',\n",
       " '_i15',\n",
       " '_i16',\n",
       " '_i17',\n",
       " '_i18',\n",
       " '_i19',\n",
       " '_i2',\n",
       " '_i20',\n",
       " '_i21',\n",
       " '_i22',\n",
       " '_i23',\n",
       " '_i24',\n",
       " '_i25',\n",
       " '_i26',\n",
       " '_i27',\n",
       " '_i28',\n",
       " '_i29',\n",
       " '_i3',\n",
       " '_i30',\n",
       " '_i31',\n",
       " '_i32',\n",
       " '_i33',\n",
       " '_i34',\n",
       " '_i35',\n",
       " '_i36',\n",
       " '_i37',\n",
       " '_i38',\n",
       " '_i39',\n",
       " '_i4',\n",
       " '_i40',\n",
       " '_i41',\n",
       " '_i42',\n",
       " '_i43',\n",
       " '_i44',\n",
       " '_i45',\n",
       " '_i46',\n",
       " '_i47',\n",
       " '_i48',\n",
       " '_i49',\n",
       " '_i5',\n",
       " '_i50',\n",
       " '_i51',\n",
       " '_i52',\n",
       " '_i53',\n",
       " '_i54',\n",
       " '_i55',\n",
       " '_i56',\n",
       " '_i57',\n",
       " '_i58',\n",
       " '_i59',\n",
       " '_i6',\n",
       " '_i60',\n",
       " '_i61',\n",
       " '_i62',\n",
       " '_i63',\n",
       " '_i64',\n",
       " '_i65',\n",
       " '_i66',\n",
       " '_i67',\n",
       " '_i68',\n",
       " '_i69',\n",
       " '_i7',\n",
       " '_i70',\n",
       " '_i71',\n",
       " '_i72',\n",
       " '_i73',\n",
       " '_i74',\n",
       " '_i8',\n",
       " '_i9',\n",
       " '_ih',\n",
       " '_ii',\n",
       " '_iii',\n",
       " '_oh',\n",
       " 'a',\n",
       " 'alist',\n",
       " 'bar',\n",
       " 'changeme',\n",
       " 'exit',\n",
       " 'foo',\n",
       " 'get_ipython',\n",
       " 'jumlah_hewan',\n",
       " 'jumlah_kelinci',\n",
       " 'jumlah_kucing',\n",
       " 'mod',\n",
       " 'my_function',\n",
       " 'my_module',\n",
       " 'mylist',\n",
       " 'open',\n",
       " 'printinfo',\n",
       " 'printme',\n",
       " 'quit',\n",
       " 'qux',\n",
       " 're',\n",
       " 's',\n",
       " 'string',\n",
       " 'sum',\n",
       " 'sys',\n",
       " 'total',\n",
       " 'x']"
      ]
     },
     "execution_count": 74,
     "metadata": {},
     "output_type": "execute_result"
    }
   ],
   "source": [
    "import mod\n",
    "dir()"
   ]
  },
  {
   "cell_type": "code",
   "execution_count": 75,
   "id": "f2350a52",
   "metadata": {},
   "outputs": [
    {
     "data": {
      "text/plain": [
       "['Bar',\n",
       " 'Foo',\n",
       " 'In',\n",
       " 'Out',\n",
       " '_',\n",
       " '_14',\n",
       " '_17',\n",
       " '_19',\n",
       " '_20',\n",
       " '_21',\n",
       " '_26',\n",
       " '_27',\n",
       " '_28',\n",
       " '_30',\n",
       " '_31',\n",
       " '_32',\n",
       " '_34',\n",
       " '_37',\n",
       " '_38',\n",
       " '_41',\n",
       " '_42',\n",
       " '_43',\n",
       " '_44',\n",
       " '_47',\n",
       " '_48',\n",
       " '_49',\n",
       " '_50',\n",
       " '_51',\n",
       " '_52',\n",
       " '_53',\n",
       " '_54',\n",
       " '_55',\n",
       " '_56',\n",
       " '_57',\n",
       " '_71',\n",
       " '_72',\n",
       " '_73',\n",
       " '_74',\n",
       " '__',\n",
       " '___',\n",
       " '__builtin__',\n",
       " '__builtins__',\n",
       " '__doc__',\n",
       " '__loader__',\n",
       " '__name__',\n",
       " '__package__',\n",
       " '__spec__',\n",
       " '_dh',\n",
       " '_i',\n",
       " '_i1',\n",
       " '_i10',\n",
       " '_i11',\n",
       " '_i12',\n",
       " '_i13',\n",
       " '_i14',\n",
       " '_i15',\n",
       " '_i16',\n",
       " '_i17',\n",
       " '_i18',\n",
       " '_i19',\n",
       " '_i2',\n",
       " '_i20',\n",
       " '_i21',\n",
       " '_i22',\n",
       " '_i23',\n",
       " '_i24',\n",
       " '_i25',\n",
       " '_i26',\n",
       " '_i27',\n",
       " '_i28',\n",
       " '_i29',\n",
       " '_i3',\n",
       " '_i30',\n",
       " '_i31',\n",
       " '_i32',\n",
       " '_i33',\n",
       " '_i34',\n",
       " '_i35',\n",
       " '_i36',\n",
       " '_i37',\n",
       " '_i38',\n",
       " '_i39',\n",
       " '_i4',\n",
       " '_i40',\n",
       " '_i41',\n",
       " '_i42',\n",
       " '_i43',\n",
       " '_i44',\n",
       " '_i45',\n",
       " '_i46',\n",
       " '_i47',\n",
       " '_i48',\n",
       " '_i49',\n",
       " '_i5',\n",
       " '_i50',\n",
       " '_i51',\n",
       " '_i52',\n",
       " '_i53',\n",
       " '_i54',\n",
       " '_i55',\n",
       " '_i56',\n",
       " '_i57',\n",
       " '_i58',\n",
       " '_i59',\n",
       " '_i6',\n",
       " '_i60',\n",
       " '_i61',\n",
       " '_i62',\n",
       " '_i63',\n",
       " '_i64',\n",
       " '_i65',\n",
       " '_i66',\n",
       " '_i67',\n",
       " '_i68',\n",
       " '_i69',\n",
       " '_i7',\n",
       " '_i70',\n",
       " '_i71',\n",
       " '_i72',\n",
       " '_i73',\n",
       " '_i74',\n",
       " '_i75',\n",
       " '_i8',\n",
       " '_i9',\n",
       " '_ih',\n",
       " '_ii',\n",
       " '_iii',\n",
       " '_oh',\n",
       " 'a',\n",
       " 'alist',\n",
       " 'bar',\n",
       " 'changeme',\n",
       " 'exit',\n",
       " 'foo',\n",
       " 'get_ipython',\n",
       " 'jumlah_hewan',\n",
       " 'jumlah_kelinci',\n",
       " 'jumlah_kucing',\n",
       " 'mod',\n",
       " 'my_function',\n",
       " 'my_module',\n",
       " 'mylist',\n",
       " 'open',\n",
       " 'printinfo',\n",
       " 'printme',\n",
       " 'quit',\n",
       " 'qux',\n",
       " 're',\n",
       " 's',\n",
       " 'string',\n",
       " 'sum',\n",
       " 'sys',\n",
       " 'total',\n",
       " 'x']"
      ]
     },
     "execution_count": 75,
     "metadata": {},
     "output_type": "execute_result"
    }
   ],
   "source": [
    "from mod import a, Foo\n",
    "dir()"
   ]
  },
  {
   "cell_type": "code",
   "execution_count": 76,
   "id": "164519ea",
   "metadata": {},
   "outputs": [
    {
     "data": {
      "text/plain": [
       "[100, 200, 300]"
      ]
     },
     "execution_count": 76,
     "metadata": {},
     "output_type": "execute_result"
    }
   ],
   "source": [
    "a"
   ]
  },
  {
   "cell_type": "code",
   "execution_count": 77,
   "id": "958e0f24",
   "metadata": {},
   "outputs": [
    {
     "data": {
      "text/plain": [
       "<mod.Foo at 0x1cae3a4f970>"
      ]
     },
     "execution_count": 77,
     "metadata": {},
     "output_type": "execute_result"
    }
   ],
   "source": [
    "x = Foo()\n",
    "x"
   ]
  },
  {
   "cell_type": "code",
   "execution_count": 79,
   "id": "244f001c",
   "metadata": {},
   "outputs": [
    {
     "data": {
      "text/plain": [
       "['Bar',\n",
       " 'Foo',\n",
       " 'In',\n",
       " 'Out',\n",
       " '_',\n",
       " '_14',\n",
       " '_17',\n",
       " '_19',\n",
       " '_20',\n",
       " '_21',\n",
       " '_26',\n",
       " '_27',\n",
       " '_28',\n",
       " '_30',\n",
       " '_31',\n",
       " '_32',\n",
       " '_34',\n",
       " '_37',\n",
       " '_38',\n",
       " '_41',\n",
       " '_42',\n",
       " '_43',\n",
       " '_44',\n",
       " '_47',\n",
       " '_48',\n",
       " '_49',\n",
       " '_50',\n",
       " '_51',\n",
       " '_52',\n",
       " '_53',\n",
       " '_54',\n",
       " '_55',\n",
       " '_56',\n",
       " '_57',\n",
       " '_71',\n",
       " '_72',\n",
       " '_73',\n",
       " '_74',\n",
       " '_75',\n",
       " '_76',\n",
       " '_77',\n",
       " '__',\n",
       " '___',\n",
       " '__builtin__',\n",
       " '__builtins__',\n",
       " '__doc__',\n",
       " '__loader__',\n",
       " '__name__',\n",
       " '__package__',\n",
       " '__spec__',\n",
       " '_dh',\n",
       " '_i',\n",
       " '_i1',\n",
       " '_i10',\n",
       " '_i11',\n",
       " '_i12',\n",
       " '_i13',\n",
       " '_i14',\n",
       " '_i15',\n",
       " '_i16',\n",
       " '_i17',\n",
       " '_i18',\n",
       " '_i19',\n",
       " '_i2',\n",
       " '_i20',\n",
       " '_i21',\n",
       " '_i22',\n",
       " '_i23',\n",
       " '_i24',\n",
       " '_i25',\n",
       " '_i26',\n",
       " '_i27',\n",
       " '_i28',\n",
       " '_i29',\n",
       " '_i3',\n",
       " '_i30',\n",
       " '_i31',\n",
       " '_i32',\n",
       " '_i33',\n",
       " '_i34',\n",
       " '_i35',\n",
       " '_i36',\n",
       " '_i37',\n",
       " '_i38',\n",
       " '_i39',\n",
       " '_i4',\n",
       " '_i40',\n",
       " '_i41',\n",
       " '_i42',\n",
       " '_i43',\n",
       " '_i44',\n",
       " '_i45',\n",
       " '_i46',\n",
       " '_i47',\n",
       " '_i48',\n",
       " '_i49',\n",
       " '_i5',\n",
       " '_i50',\n",
       " '_i51',\n",
       " '_i52',\n",
       " '_i53',\n",
       " '_i54',\n",
       " '_i55',\n",
       " '_i56',\n",
       " '_i57',\n",
       " '_i58',\n",
       " '_i59',\n",
       " '_i6',\n",
       " '_i60',\n",
       " '_i61',\n",
       " '_i62',\n",
       " '_i63',\n",
       " '_i64',\n",
       " '_i65',\n",
       " '_i66',\n",
       " '_i67',\n",
       " '_i68',\n",
       " '_i69',\n",
       " '_i7',\n",
       " '_i70',\n",
       " '_i71',\n",
       " '_i72',\n",
       " '_i73',\n",
       " '_i74',\n",
       " '_i75',\n",
       " '_i76',\n",
       " '_i77',\n",
       " '_i78',\n",
       " '_i79',\n",
       " '_i8',\n",
       " '_i9',\n",
       " '_ih',\n",
       " '_ii',\n",
       " '_iii',\n",
       " '_oh',\n",
       " 'a',\n",
       " 'alist',\n",
       " 'bar',\n",
       " 'changeme',\n",
       " 'exit',\n",
       " 'foo',\n",
       " 'get_ipython',\n",
       " 'jumlah_hewan',\n",
       " 'jumlah_kelinci',\n",
       " 'jumlah_kucing',\n",
       " 'mod',\n",
       " 'my_function',\n",
       " 'my_module',\n",
       " 'mylist',\n",
       " 'open',\n",
       " 'printinfo',\n",
       " 'printme',\n",
       " 'quit',\n",
       " 'qux',\n",
       " 're',\n",
       " 's',\n",
       " 'string',\n",
       " 'sum',\n",
       " 'sys',\n",
       " 'total',\n",
       " 'x']"
      ]
     },
     "execution_count": 79,
     "metadata": {},
     "output_type": "execute_result"
    }
   ],
   "source": [
    "from mod import s as string\n",
    "dir()"
   ]
  },
  {
   "cell_type": "code",
   "execution_count": 80,
   "id": "a34d78f1",
   "metadata": {},
   "outputs": [
    {
     "data": {
      "text/plain": [
       "'Hacktiv8-PTP Python For Data Science'"
      ]
     },
     "execution_count": 80,
     "metadata": {},
     "output_type": "execute_result"
    }
   ],
   "source": [
    "string"
   ]
  },
  {
   "cell_type": "markdown",
   "id": "7e1958b3",
   "metadata": {},
   "source": [
    "import mod\n",
    "dir(mod)"
   ]
  },
  {
   "cell_type": "markdown",
   "id": "04d6fbcd",
   "metadata": {},
   "source": [
    "Executing a Module as a Script"
   ]
  },
  {
   "cell_type": "code",
   "execution_count": 87,
   "id": "48e3090f",
   "metadata": {},
   "outputs": [
    {
     "name": "stdout",
     "output_type": "stream",
     "text": [
      "arg = grault\n"
     ]
    }
   ],
   "source": [
    "import mod\n",
    "mod.foo('grault')"
   ]
  },
  {
   "cell_type": "code",
   "execution_count": 91,
   "id": "be3737ee",
   "metadata": {},
   "outputs": [
    {
     "data": {
      "text/plain": [
       "720"
      ]
     },
     "execution_count": 91,
     "metadata": {},
     "output_type": "execute_result"
    }
   ],
   "source": [
    "from fact import fact\n",
    "fact(6)"
   ]
  },
  {
   "cell_type": "markdown",
   "id": "c86bf4b7",
   "metadata": {},
   "source": [
    "Reloading a Module"
   ]
  },
  {
   "cell_type": "code",
   "execution_count": 92,
   "id": "403f0032",
   "metadata": {},
   "outputs": [
    {
     "name": "stdout",
     "output_type": "stream",
     "text": [
      "a =  [100, 200, 300]\n"
     ]
    }
   ],
   "source": [
    "a = [100,200,300]\n",
    "print('a = ',a)"
   ]
  },
  {
   "cell_type": "code",
   "execution_count": 96,
   "id": "5c0fde39",
   "metadata": {},
   "outputs": [],
   "source": [
    "import mod"
   ]
  },
  {
   "cell_type": "code",
   "execution_count": 97,
   "id": "5cabe056",
   "metadata": {},
   "outputs": [
    {
     "data": {
      "text/plain": [
       "[100, 200, 300]"
      ]
     },
     "execution_count": 97,
     "metadata": {},
     "output_type": "execute_result"
    }
   ],
   "source": [
    "mod.a"
   ]
  },
  {
   "cell_type": "code",
   "execution_count": 98,
   "id": "ff4c1453",
   "metadata": {},
   "outputs": [
    {
     "data": {
      "text/plain": [
       "<module 'mod' from 'C:\\\\Users\\\\Lenovo\\\\Studi Independen\\\\Function, Module dan Package (Sesi 3)\\\\mod.py'>"
      ]
     },
     "execution_count": 98,
     "metadata": {},
     "output_type": "execute_result"
    }
   ],
   "source": [
    "import mod\n",
    "import importlib\n",
    "importlib.reload(mod)"
   ]
  },
  {
   "cell_type": "markdown",
   "id": "86c8fb06",
   "metadata": {},
   "source": [
    "Python Packages"
   ]
  },
  {
   "cell_type": "code",
   "execution_count": 100,
   "id": "385b95c0",
   "metadata": {},
   "outputs": [
    {
     "name": "stdout",
     "output_type": "stream",
     "text": [
      "[mod1] foo()\n"
     ]
    }
   ],
   "source": [
    "import pkg.mod1, pkg.mod2\n",
    "pkg.mod1.foo()"
   ]
  },
  {
   "cell_type": "code",
   "execution_count": 102,
   "id": "9b5e0778",
   "metadata": {},
   "outputs": [
    {
     "data": {
      "text/plain": [
       "<pkg.mod2.Bar at 0x1cae240f9a0>"
      ]
     },
     "execution_count": 102,
     "metadata": {},
     "output_type": "execute_result"
    }
   ],
   "source": [
    "x = pkg.mod2.Bar()\n",
    "x"
   ]
  },
  {
   "cell_type": "code",
   "execution_count": 103,
   "id": "94c7652f",
   "metadata": {},
   "outputs": [
    {
     "name": "stdout",
     "output_type": "stream",
     "text": [
      "[mod1] foo()\n"
     ]
    }
   ],
   "source": [
    "from pkg.mod1 import foo\n",
    "foo()"
   ]
  },
  {
   "cell_type": "code",
   "execution_count": 104,
   "id": "ddc37de9",
   "metadata": {},
   "outputs": [
    {
     "data": {
      "text/plain": [
       "<pkg.mod2.Bar at 0x1cae240e0b0>"
      ]
     },
     "execution_count": 104,
     "metadata": {},
     "output_type": "execute_result"
    }
   ],
   "source": [
    "from pkg.mod2 import Bar as Qux\n",
    "x = Qux()\n",
    "x"
   ]
  },
  {
   "cell_type": "code",
   "execution_count": 105,
   "id": "43f47d09",
   "metadata": {},
   "outputs": [
    {
     "name": "stdout",
     "output_type": "stream",
     "text": [
      "[mod1] bar()\n"
     ]
    }
   ],
   "source": [
    "from pkg import mod2 as quux\n",
    "quux.bar()"
   ]
  },
  {
   "cell_type": "code",
   "execution_count": 106,
   "id": "2923d88e",
   "metadata": {},
   "outputs": [
    {
     "data": {
      "text/plain": [
       "<module 'pkg' (<_frozen_importlib_external._NamespaceLoader object at 0x000001CAE39FB1C0>)>"
      ]
     },
     "execution_count": 106,
     "metadata": {},
     "output_type": "execute_result"
    }
   ],
   "source": [
    "import pkg\n",
    "pkg"
   ]
  },
  {
   "cell_type": "code",
   "execution_count": 107,
   "id": "25f9b8ba",
   "metadata": {},
   "outputs": [
    {
     "data": {
      "text/plain": [
       "<module 'pkg.mod1' from 'C:\\\\Users\\\\Lenovo\\\\Studi Independen\\\\Function, Module dan Package (Sesi 3)\\\\pkg\\\\mod1.py'>"
      ]
     },
     "execution_count": 107,
     "metadata": {},
     "output_type": "execute_result"
    }
   ],
   "source": [
    "pkg.mod1"
   ]
  },
  {
   "cell_type": "code",
   "execution_count": 108,
   "id": "3d974d60",
   "metadata": {},
   "outputs": [
    {
     "name": "stdout",
     "output_type": "stream",
     "text": [
      "[mod1] foo()\n"
     ]
    }
   ],
   "source": [
    "pkg.mod1.foo()"
   ]
  },
  {
   "cell_type": "code",
   "execution_count": 110,
   "id": "34069b32",
   "metadata": {},
   "outputs": [
    {
     "data": {
      "text/plain": [
       "<pkg.mod2.Bar at 0x1cae240e170>"
      ]
     },
     "execution_count": 110,
     "metadata": {},
     "output_type": "execute_result"
    }
   ],
   "source": [
    "pkg.mod2.Bar()"
   ]
  },
  {
   "cell_type": "markdown",
   "id": "c33d3e55",
   "metadata": {},
   "source": [
    "## PIP"
   ]
  },
  {
   "cell_type": "code",
   "execution_count": 111,
   "id": "e8f090f0",
   "metadata": {},
   "outputs": [
    {
     "name": "stdout",
     "output_type": "stream",
     "text": [
      "pip 22.3.1 from C:\\Users\\Lenovo\\anaconda4\\lib\\site-packages\\pip (python 3.10)Note: you may need to restart the kernel to use updated packages.\n",
      "\n",
      "\n"
     ]
    }
   ],
   "source": [
    "pip --version"
   ]
  },
  {
   "cell_type": "code",
   "execution_count": null,
   "id": "627b4e69",
   "metadata": {},
   "outputs": [],
   "source": []
  }
 ],
 "metadata": {
  "kernelspec": {
   "display_name": "Python 3 (ipykernel)",
   "language": "python",
   "name": "python3"
  },
  "language_info": {
   "codemirror_mode": {
    "name": "ipython",
    "version": 3
   },
   "file_extension": ".py",
   "mimetype": "text/x-python",
   "name": "python",
   "nbconvert_exporter": "python",
   "pygments_lexer": "ipython3",
   "version": "3.10.9"
  }
 },
 "nbformat": 4,
 "nbformat_minor": 5
}
