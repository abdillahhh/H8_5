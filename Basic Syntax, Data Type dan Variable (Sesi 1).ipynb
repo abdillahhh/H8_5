{
 "cells": [
  {
   "cell_type": "markdown",
   "id": "b1add826",
   "metadata": {},
   "source": [
    "# Statement"
   ]
  },
  {
   "cell_type": "code",
   "execution_count": 2,
   "id": "c484220e",
   "metadata": {},
   "outputs": [
    {
     "name": "stdout",
     "output_type": "stream",
     "text": [
      "10\n"
     ]
    }
   ],
   "source": [
    "a = 10\n",
    "b = 50\n",
    "if a < b:\n",
    "    print(a)"
   ]
  },
  {
   "cell_type": "code",
   "execution_count": 4,
   "id": "cc3febf5",
   "metadata": {},
   "outputs": [
    {
     "name": "stdout",
     "output_type": "stream",
     "text": [
      "Masuk sini\n",
      "60\n",
      "aaaa\n"
     ]
    }
   ],
   "source": [
    "a = 60\n",
    "b = 50\n",
    "if a > b:\n",
    "    print('Masuk sini')\n",
    "    print(a)\n",
    "    print('aaaa')"
   ]
  },
  {
   "cell_type": "code",
   "execution_count": 5,
   "id": "5d65ddff",
   "metadata": {},
   "outputs": [
    {
     "name": "stdout",
     "output_type": "stream",
     "text": [
      "aaaa\n"
     ]
    }
   ],
   "source": [
    "a = 10\n",
    "b = 50\n",
    "if a > b:\n",
    "    print('Masuk sini')\n",
    "    print(a)\n",
    "    \n",
    "print('aaaa')"
   ]
  },
  {
   "cell_type": "code",
   "execution_count": 9,
   "id": "fcae2f71",
   "metadata": {},
   "outputs": [
    {
     "name": "stdout",
     "output_type": "stream",
     "text": [
      "a lebih kecil dari b\n",
      "50\n"
     ]
    }
   ],
   "source": [
    "a = 10\n",
    "b = 50\n",
    "if a > b:\n",
    "    print(' a lebih besar dari b')\n",
    "    print(a)\n",
    "else:\n",
    "    print('a lebih kecil dari b')\n",
    "    print(b)"
   ]
  },
  {
   "cell_type": "code",
   "execution_count": null,
   "id": "c0abd7cf",
   "metadata": {},
   "outputs": [],
   "source": [
    "s = \"foo\"\n",
    "a = 10\n",
    "\n",
    "if s in \"this food is good\":\n",
    "    print (\"cabang 1\")\n",
    "    \n",
    "    if a < 5 :\n",
    "        print(\"cabang 2\")\n",
    "        print(\"Nilai a lebih kecil dari 5\")\n",
    "    else:\n",
    "        print(\"else cabang 2\")\n",
    "        print(\"Nilai a lebih besar dari 5\")"
   ]
  },
  {
   "cell_type": "code",
   "execution_count": 11,
   "id": "27562ff9",
   "metadata": {},
   "outputs": [
    {
     "name": "stdout",
     "output_type": "stream",
     "text": [
      "Beli majalah\n"
     ]
    }
   ],
   "source": [
    "# kondisi ini akan menghasilkan output dari aturan pertama yang terpenuhi\n",
    "\n",
    "harga_buku = 20000\n",
    "harga_majalah = 5000\n",
    "uang = 6000\n",
    "\n",
    "if uang > harga_buku:\n",
    "    print('Beli buku')\n",
    "elif uang > harga_majalah:\n",
    "    print('Beli majalah')\n",
    "else:\n",
    "    print('Uang tidak cukup')"
   ]
  },
  {
   "cell_type": "code",
   "execution_count": 12,
   "id": "41224617",
   "metadata": {},
   "outputs": [
    {
     "name": "stdout",
     "output_type": "stream",
     "text": [
      "500\n",
      "a sama dengan b\n"
     ]
    }
   ],
   "source": [
    "a = 500\n",
    "b = 500\n",
    "if a > b: print(a); print('a lebih besar dari b')\n",
    "elif a == b: print(a); print('a sama dengan b')\n",
    "else: print(b); print('a lebih kecil dari b')"
   ]
  },
  {
   "cell_type": "code",
   "execution_count": 14,
   "id": "b4505782",
   "metadata": {},
   "outputs": [
    {
     "name": "stdout",
     "output_type": "stream",
     "text": [
      "500\n",
      "300\n"
     ]
    }
   ],
   "source": [
    "a = 500\n",
    "b = 300\n",
    "\n",
    "maximum = a if a > b else b\n",
    "print(maximum)\n",
    "\n",
    "a = 200\n",
    "b = 300\n",
    "\n",
    "maximum = a if a > b else b\n",
    "print(maximum)"
   ]
  },
  {
   "cell_type": "code",
   "execution_count": 17,
   "id": "71083e26",
   "metadata": {},
   "outputs": [
    {
     "name": "stdout",
     "output_type": "stream",
     "text": [
      "Ke pantai\n",
      "ke warnet\n"
     ]
    }
   ],
   "source": [
    "raining = False\n",
    "\n",
    "print('Ke pantai' if not raining else 'ke warnet')\n",
    "\n",
    "raining = True\n",
    "\n",
    "print('Ke pantai' if not raining else 'ke warnet')"
   ]
  },
  {
   "cell_type": "code",
   "execution_count": 21,
   "id": "1f2f990b",
   "metadata": {},
   "outputs": [
    {
     "name": "stdout",
     "output_type": "stream",
     "text": [
      "100\n"
     ]
    }
   ],
   "source": [
    "a = 100\n",
    "b = 10\n",
    "if a > b:\n",
    "    pass # Berguna untuk melewati code\n",
    "print(a)"
   ]
  },
  {
   "cell_type": "markdown",
   "id": "f8206488",
   "metadata": {},
   "source": [
    "# Loop"
   ]
  },
  {
   "cell_type": "code",
   "execution_count": 27,
   "id": "28c7380f",
   "metadata": {},
   "outputs": [
    {
     "name": "stdout",
     "output_type": "stream",
     "text": [
      "1\n",
      "2\n",
      "3\n",
      "4\n",
      "5\n",
      "6\n",
      "7\n",
      "8\n",
      "9\n",
      "10\n"
     ]
    }
   ],
   "source": [
    "n = 1\n",
    "un = 10\n",
    "s = 0\n",
    "\n",
    "while n <= un:\n",
    "    print(n)\n",
    "    s += n #maskudnya s = s+n\n",
    "    n+=1"
   ]
  },
  {
   "cell_type": "code",
   "execution_count": 28,
   "id": "7ad3ff56",
   "metadata": {},
   "outputs": [
    {
     "name": "stdout",
     "output_type": "stream",
     "text": [
      "11\n"
     ]
    }
   ],
   "source": [
    "print(n)"
   ]
  },
  {
   "cell_type": "code",
   "execution_count": 29,
   "id": "9d7cf936",
   "metadata": {},
   "outputs": [
    {
     "name": "stdout",
     "output_type": "stream",
     "text": [
      "0\n",
      "di bawah break\n",
      "1\n",
      "di bawah break\n",
      "2\n",
      "di bawah break\n",
      "3\n",
      "di bawah break\n",
      "4\n",
      "di luar loop\n"
     ]
    }
   ],
   "source": [
    "i = 0\n",
    "while i < 10:\n",
    "    print(i)\n",
    "    if i == 4:\n",
    "        break #berguna untuk keluar dari loop\n",
    "    print('di bawah break')\n",
    "    i += 1\n",
    "\n",
    "print('di luar loop')"
   ]
  },
  {
   "cell_type": "code",
   "execution_count": 30,
   "id": "1106df36",
   "metadata": {},
   "outputs": [
    {
     "name": "stdout",
     "output_type": "stream",
     "text": [
      "1\n",
      "di bawah break\n",
      "2\n",
      "di bawah break\n",
      "3\n",
      "di bawah break\n",
      "5\n",
      "di bawah break\n",
      "6\n",
      "di bawah break\n",
      "7\n",
      "di bawah break\n",
      "8\n",
      "di bawah break\n",
      "9\n",
      "di bawah break\n",
      "10\n",
      "di bawah break\n",
      "di luar loop\n"
     ]
    }
   ],
   "source": [
    "i = 0\n",
    "while i < 10:\n",
    "    i += 1\n",
    "    if i == 4:\n",
    "        continue #kembali ke awal\n",
    "    print(i)\n",
    "    print('di bawah break')\n",
    "\n",
    "print('di luar loop')"
   ]
  },
  {
   "cell_type": "code",
   "execution_count": 34,
   "id": "4eb10e92",
   "metadata": {},
   "outputs": [
    {
     "name": "stdout",
     "output_type": "stream",
     "text": [
      "1\n",
      "2\n",
      "3\n",
      "4\n",
      "5\n",
      "6\n",
      "7\n",
      "8\n",
      "9\n",
      "10\n",
      "loop selesai\n",
      "diluar loop\n"
     ]
    }
   ],
   "source": [
    "i = 0\n",
    "while i < 10:\n",
    "    i += 1\n",
    "    print(i)\n",
    "else:\n",
    "    print('loop selesai')\n",
    "\n",
    "print('diluar loop')"
   ]
  },
  {
   "cell_type": "code",
   "execution_count": 40,
   "id": "db2cd477",
   "metadata": {},
   "outputs": [
    {
     "name": "stdout",
     "output_type": "stream",
     "text": [
      "0\n",
      "dibawah loop\n",
      "1\n",
      "dibawah loop\n",
      "2\n",
      "dibawah loop\n",
      "3\n",
      "dibawah loop\n",
      "4\n",
      "diluar loop\n"
     ]
    }
   ],
   "source": [
    "i = 0\n",
    "while i < 10:\n",
    "    print(i)\n",
    "    if i == 4:\n",
    "        break\n",
    "    print ('dibawah loop')\n",
    "    i += 1\n",
    "else:\n",
    "    print('loop selesai')\n",
    "\n",
    "print('diluar loop')"
   ]
  },
  {
   "cell_type": "code",
   "execution_count": 41,
   "id": "e939e5fa",
   "metadata": {},
   "outputs": [
    {
     "name": "stdout",
     "output_type": "stream",
     "text": [
      "4\n",
      "3\n",
      "2\n",
      "1\n",
      "0\n"
     ]
    }
   ],
   "source": [
    "n = 5 \n",
    "while n > 0: n -=1; print(n)"
   ]
  },
  {
   "cell_type": "code",
   "execution_count": 45,
   "id": "4c91b60c",
   "metadata": {},
   "outputs": [
    {
     "name": "stdout",
     "output_type": "stream",
     "text": [
      "['fa', 'fi', 'fu']\n",
      "['fa', 'fi', 'fu']\n",
      "['fa', 'fi', 'fu']\n"
     ]
    }
   ],
   "source": [
    "l = ['fa', 'fi', 'fu']\n",
    "i = 0\n",
    "\n",
    "while i < len(l):\n",
    "    print(l)\n",
    "    i+=1"
   ]
  },
  {
   "cell_type": "code",
   "execution_count": 47,
   "id": "ce194540",
   "metadata": {},
   "outputs": [
    {
     "name": "stdout",
     "output_type": "stream",
     "text": [
      "True\n",
      "False\n",
      "False\n"
     ]
    }
   ],
   "source": [
    "l = ['fa', 'fi', 'fu']\n",
    "i = 0\n",
    "\n",
    "for s in l:\n",
    "    print('a' in s)"
   ]
  },
  {
   "cell_type": "code",
   "execution_count": 53,
   "id": "5d7d53d4",
   "metadata": {},
   "outputs": [
    {
     "name": "stdout",
     "output_type": "stream",
     "text": [
      "fa\n",
      "fi\n",
      "fu\n",
      "1\n",
      "2\n",
      "3\n"
     ]
    }
   ],
   "source": [
    "d = {'fa' : 1, 'fi' : 2, 'fu' : 3}\n",
    "\n",
    "for k in d:\n",
    "    print(k)\n",
    "\n",
    "for k in d.values():\n",
    "    print(k)"
   ]
  },
  {
   "cell_type": "code",
   "execution_count": 54,
   "id": "413255c0",
   "metadata": {},
   "outputs": [
    {
     "data": {
      "text/plain": [
       "dict_items([('fa', 1), ('fi', 2), ('fu', 3)])"
      ]
     },
     "execution_count": 54,
     "metadata": {},
     "output_type": "execute_result"
    }
   ],
   "source": [
    "d.items()`"
   ]
  },
  {
   "cell_type": "code",
   "execution_count": 55,
   "id": "eaad0a8d",
   "metadata": {},
   "outputs": [
    {
     "name": "stdout",
     "output_type": "stream",
     "text": [
      "fa _ 1\n",
      "fi _ 2\n",
      "fu _ 3\n"
     ]
    }
   ],
   "source": [
    "for k, v in d.items():\n",
    "    print(k, '_', v)"
   ]
  },
  {
   "cell_type": "code",
   "execution_count": 56,
   "id": "8c8bf62a",
   "metadata": {},
   "outputs": [
    {
     "name": "stdout",
     "output_type": "stream",
     "text": [
      "1 1 1\n",
      "2 2 2\n",
      "3 3 3\n"
     ]
    }
   ],
   "source": [
    "coor = [(1,1,1), (2,2,2), (3,3,3)]\n",
    "\n",
    "for x,y,z in coor:\n",
    "    print(x,y,z)"
   ]
  },
  {
   "cell_type": "code",
   "execution_count": 57,
   "id": "9956fc35",
   "metadata": {},
   "outputs": [
    {
     "name": "stdout",
     "output_type": "stream",
     "text": [
      "10\n",
      "8\n",
      "6\n",
      "4\n",
      "2\n"
     ]
    }
   ],
   "source": [
    "for i in range(10,0,-2):\n",
    "    print(i)"
   ]
  },
  {
   "cell_type": "code",
   "execution_count": 61,
   "id": "ac8d10ac",
   "metadata": {},
   "outputs": [
    {
     "name": "stdout",
     "output_type": "stream",
     "text": [
      "25\n",
      "22\n",
      "19\n",
      "16\n",
      "13\n",
      "10\n",
      "7\n",
      "4\n",
      "1\n"
     ]
    }
   ],
   "source": [
    "for i in range(25,0,-3):\n",
    "    print(i)"
   ]
  },
  {
   "cell_type": "code",
   "execution_count": 62,
   "id": "ee691a55",
   "metadata": {},
   "outputs": [
    {
     "name": "stdout",
     "output_type": "stream",
     "text": [
      "0\n",
      "dibawah break\n",
      "1\n",
      "dibawah break\n",
      "2\n",
      "dibawah break\n",
      "3\n",
      "dibawah break\n"
     ]
    }
   ],
   "source": [
    "for i in range(0,10):\n",
    "    if i==4:\n",
    "        break\n",
    "    print(i)\n",
    "    print('dibawah break')\n",
    "else:\n",
    "        print('Done.')"
   ]
  },
  {
   "cell_type": "code",
   "execution_count": 63,
   "id": "325bc111",
   "metadata": {},
   "outputs": [
    {
     "name": "stdout",
     "output_type": "stream",
     "text": [
      "0\n",
      "dibawah break\n",
      "1\n",
      "dibawah break\n",
      "2\n",
      "dibawah break\n",
      "3\n",
      "dibawah break\n",
      "5\n",
      "dibawah break\n",
      "6\n",
      "dibawah break\n",
      "7\n",
      "dibawah break\n",
      "8\n",
      "dibawah break\n",
      "9\n",
      "dibawah break\n",
      "Done.\n"
     ]
    }
   ],
   "source": [
    "for i in range(0,10):\n",
    "    if i==4:\n",
    "        continue\n",
    "    print(i)\n",
    "    print('dibawah break')\n",
    "else:\n",
    "        print('Done.')"
   ]
  }
 ],
 "metadata": {
  "kernelspec": {
   "display_name": "Python 3 (ipykernel)",
   "language": "python",
   "name": "python3"
  },
  "language_info": {
   "codemirror_mode": {
    "name": "ipython",
    "version": 3
   },
   "file_extension": ".py",
   "mimetype": "text/x-python",
   "name": "python",
   "nbconvert_exporter": "python",
   "pygments_lexer": "ipython3",
   "version": "3.10.9"
  }
 },
 "nbformat": 4,
 "nbformat_minor": 5
}
